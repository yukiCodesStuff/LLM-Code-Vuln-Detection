{
 "cells": [
  {
   "cell_type": "code",
   "execution_count": 1,
   "metadata": {},
   "outputs": [],
   "source": [
    "! pip install --quiet langchain pymongo langchain-openai langchain-community pypdf"
   ]
  },
  {
   "cell_type": "code",
   "execution_count": 2,
   "metadata": {},
   "outputs": [
    {
     "name": "stderr",
     "output_type": "stream",
     "text": [
      "/var/folders/lg/3y44c83j6x12y235mw36jdfm0000gn/T/ipykernel_76673/76384287.py:32: LangChainDeprecationWarning: The class `OpenAIEmbeddings` was deprecated in LangChain 0.0.9 and will be removed in 1.0. An updated version of the class exists in the :class:`~langchain-openai package and should be used instead. To use it run `pip install -U :class:`~langchain-openai` and import as `from :class:`~langchain_openai import OpenAIEmbeddings``.\n",
      "  embeddings = OpenAIEmbeddings()\n",
      "/var/folders/lg/3y44c83j6x12y235mw36jdfm0000gn/T/ipykernel_76673/76384287.py:42: LangChainDeprecationWarning: The class `ChatOpenAI` was deprecated in LangChain 0.0.10 and will be removed in 1.0. An updated version of the class exists in the :class:`~langchain-openai package and should be used instead. To use it run `pip install -U :class:`~langchain-openai` and import as `from :class:`~langchain_openai import ChatOpenAI``.\n",
      "  llm = ChatOpenAI(model_name=\"gpt-3.5-turbo\", temperature=0)\n",
      "/var/folders/lg/3y44c83j6x12y235mw36jdfm0000gn/T/ipykernel_76673/76384287.py:54: LangChainDeprecationWarning: The method `Chain.__call__` was deprecated in langchain 0.1.0 and will be removed in 1.0. Use :meth:`~invoke` instead.\n",
      "  result = qa_chain({\"query\": query})\n"
     ]
    },
    {
     "name": "stdout",
     "output_type": "stream",
     "text": [
      "Answer: I don't know which device you are referring to. Could you please specify the type of device you are using so I can provide you with the correct instructions on how to reset it?\n",
      "Sources:\n"
     ]
    }
   ],
   "source": [
    "import os\n",
    "import config\n",
    "from langchain.embeddings import OpenAIEmbeddings\n",
    "from langchain.vectorstores import MongoDBAtlasVectorSearch\n",
    "from langchain_community.document_loaders import PyPDFLoader\n",
    "from langchain.text_splitter import RecursiveCharacterTextSplitter\n",
    "from langchain.chat_models import ChatOpenAI\n",
    "from langchain.chains import RetrievalQA\n",
    "from pymongo import MongoClient\n",
    "from langchain_community.document_loaders import DirectoryLoader\n",
    "\n",
    "# Set up your OpenAI API key\n",
    "os.environ[\"OPENAI_API_KEY\"] = config.OPENAI_API_KEY\n",
    "\n",
    "# Set up MongoDB connection\n",
    "mongo_uri = config.MONGO_URI\n",
    "db_name = \"carlisle\"\n",
    "collection_name = \"research\"\n",
    "\n",
    "client = MongoClient(mongo_uri, appname=\"devrel.showcase.chat_with_pdf\")\n",
    "db = client[db_name]\n",
    "collection = db[collection_name]\n",
    "\n",
    "# Set up document loading and splitting\n",
    "loader = DirectoryLoader('./test_files', glob=\"**/*.md\")\n",
    "documents = loader.load()\n",
    "\n",
    "text_splitter = RecursiveCharacterTextSplitter(chunk_size=1000, chunk_overlap=200)\n",
    "texts = text_splitter.split_documents(documents)\n",
    "\n",
    "# Set up embeddings and vector store\n",
    "embeddings = OpenAIEmbeddings()\n",
    "vector_store = MongoDBAtlasVectorSearch.from_documents(\n",
    "    texts,\n",
    "    embeddings,\n",
    "    collection=collection,\n",
    "    index_name=\"vector_index\"\n",
    ")\n",
    "\n",
    "# Set up retriever and language model\n",
    "retriever = vector_store.as_retriever(search_type=\"similarity\", search_kwargs={\"k\": 5})\n",
    "llm = ChatOpenAI(model_name=\"gpt-3.5-turbo\", temperature=0)\n",
    "\n",
    "# Set up RAG pipeline\n",
    "qa_chain = RetrievalQA.from_chain_type(\n",
    "    llm=llm,\n",
    "    chain_type=\"stuff\",\n",
    "    retriever=retriever,\n",
    "    return_source_documents=True\n",
    ")\n",
    "\n",
    "# Function to process user query\n",
    "def process_query(query):\n",
    "    result = qa_chain({\"query\": query})\n",
    "    return result[\"result\"], result[\"source_documents\"]\n",
    "\n",
    "# Example usage\n",
    "query = \"How do I reset my device\"\n",
    "answer, sources = process_query(query)\n",
    "print(f\"Answer: {answer}\")\n",
    "print(\"Sources:\")\n",
    "for doc in sources:\n",
    "    print(f\"- {doc.metadata['source']}: {doc.page_content[:100]}...\")\n",
    "\n",
    "# Don't forget to close the MongoDB connection when done\n",
    "client.close()"
   ]
  }
 ],
 "metadata": {
  "kernelspec": {
   "display_name": "carlish312",
   "language": "python",
   "name": "python3"
  },
  "language_info": {
   "codemirror_mode": {
    "name": "ipython",
    "version": 3
   },
   "file_extension": ".py",
   "mimetype": "text/x-python",
   "name": "python",
   "nbconvert_exporter": "python",
   "pygments_lexer": "ipython3",
   "version": "3.12.7"
  }
 },
 "nbformat": 4,
 "nbformat_minor": 2
}
