{
 "cells": [
  {
   "cell_type": "code",
   "execution_count": 1,
   "metadata": {},
   "outputs": [],
   "source": [
    "!pip install --quiet openai requests"
   ]
  },
  {
   "cell_type": "code",
   "execution_count": 2,
   "metadata": {},
   "outputs": [],
   "source": [
    "import openai\n",
    "import requests\n",
    "import json"
   ]
  },
  {
   "cell_type": "code",
   "execution_count": 12,
   "metadata": {},
   "outputs": [],
   "source": [
    "import anthropic\n",
    "import config\n",
    "\n",
    "def generate_claude_sonnet_response(prompt):\n",
    "    client = anthropic.Anthropic(api_key=config.ANTHROPIC_API_KEY)\n",
    "\n",
    "    message = client.messages.create(\n",
    "        model=\"claude-3-5-sonnet-20241022\",\n",
    "        max_tokens=1000,\n",
    "        temperature=0,\n",
    "        system=\"You are a helpful assistant.\",\n",
    "        messages=[\n",
    "            {\n",
    "                \"role\": \"user\",\n",
    "                \"content\": [\n",
    "                    {\n",
    "                        \"type\": \"text\",\n",
    "                        \"text\": prompt\n",
    "                    }\n",
    "                ]\n",
    "            }\n",
    "        ]\n",
    "    )\n",
    "    \n",
    "    return message\n"
   ]
  },
  {
   "cell_type": "code",
   "execution_count": 13,
   "metadata": {},
   "outputs": [
    {
     "name": "stdout",
     "output_type": "stream",
     "text": [
      "Message(id='msg_0173c7yrAj2psfiicRUgrNGa', content=[TextBlock(text='Here\\'s a sonnet about the beauty of the sunset:\\n\\n\"Nature\\'s Farewell\"\\n\\nAs day surrenders to the coming night,\\nThe sun descends in robes of gold and red,\\nWhile painted clouds, aflame with fading light,\\nDance slowly toward their distant western bed.\\n\\nThe sky becomes a canvas stretched above,\\nWhere purple, orange, pink, and amber meet,\\nLike watercolors blending hand-in-glove,\\nCreating scenes so fleeting, yet so sweet.\\n\\nEach evening brings this gift of nature\\'s art,\\nA daily masterpiece that cannot stay,\\nThough brief, it touches something in the heart,\\nBefore the colors gently slip away.\\n\\nIn silence, watch this spectacle divine,\\nUntil the stars begin their turn to shine.', type='text')], model='claude-3-5-sonnet-20241022', role='assistant', stop_reason='end_turn', stop_sequence=None, type='message', usage=Usage(input_tokens=24, output_tokens=173))\n"
     ]
    }
   ],
   "source": [
    "prompt = \"Write a sonnet about the beauty of the sunset.\"\n",
    "\n",
    "response = generate_claude_sonnet_response(prompt)\n",
    "print(response)\n"
   ]
  }
 ],
 "metadata": {
  "kernelspec": {
   "display_name": "carlisle-llm",
   "language": "python",
   "name": "python3"
  },
  "language_info": {
   "codemirror_mode": {
    "name": "ipython",
    "version": 3
   },
   "file_extension": ".py",
   "mimetype": "text/x-python",
   "name": "python",
   "nbconvert_exporter": "python",
   "pygments_lexer": "ipython3",
   "version": "3.12.7"
  }
 },
 "nbformat": 4,
 "nbformat_minor": 2
}
